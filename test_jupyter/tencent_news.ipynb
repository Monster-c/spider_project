{
 "cells": [
  {
   "cell_type": "code",
   "execution_count": 65,
   "metadata": {},
   "outputs": [
    {
     "name": "stdout",
     "output_type": "stream",
     "text": [
      "successful!\n"
     ]
    }
   ],
   "source": [
    "import requests\n",
    "from lxml import etree\n",
    "\n",
    "import json\n",
    "\n",
    "url = \"https://s.weibo.com/ajax/jsonp/gettopsug?uid=&ref=PC_topsug&url=https://weibo.com/?category=1760&Mozilla=Mozilla/5.0%20(Windows%20NT%2010.0;%20Win64;%20x64;%20rv:84.0)%20Gecko/20100101%20Firefox/84.0&_cb=STK_16110512812743\"\n",
    "headers= {'Accept'\n",
    "          :'*/*',\n",
    "'Accept-Encoding':\n",
    "    'gzip, deflate, br',\n",
    "'Accept-Language':\n",
    "              'zh-CN,zh;q=0.8,zh-TW;q=0.7,zh-HK;q=0.5,en-US;q=0.3,en;q=0.2',\n",
    "'Connection':\n",
    "              'keep-alive',\n",
    "'Content-Type':\n",
    "              'application/x-www-form-urlencoded',\n",
    "'Cookie':'SUB=_2AkMo3iT6f8NxqwJRmfkVxG7qaIpzzwHEieKegtUhJRMxHRl-yT9jqk0atRB6A14KFRHYkpaQtYs5WyFEnYd04QzaZ8Id; SUBP=0033WrSXqPxfM72-Ws9jqgMF55529P9D9WFI4yKRbwlGLXIDA8UpeYsw; UOR=www.baidu.com,weibo.com,www.baidu.com; wb_view_log=1536*8641.25; SINAGLOBAL=2301199146413.0312.1611023782196; ULV=1611023782199:1:1:1:2301199146413.0312.1611023782196:; login_sid_t=cd83bb5dc2d5b879bbfb4375842d0230; cross_origin_proto=SSL; _s_tentry=www.baidu.com; Apache=2301199146413.0312.1611023782196; YF-V-WEIBO-G0=35846f552801987f8c1e8f7cec0e2230; XSRF-TOKEN=e7H_wwIETs33PU1VU2a9l10D; WBStorage=8daec78e6a891122|undefined',\n",
    "'DNT':'1',\n",
    "'Host':'weibo.com',\n",
    "'Referer':'https://weibo.com/?category=1760',\n",
    "'Sec-GPC':'1',\n",
    "'TE':'Trailers',\n",
    "'User-Agent':\n",
    "              'Mozilla/5.0 (Windows NT 10.0; Win64; x64; rv:84.0) Gecko/20100101 Firefox/84.0',\n",
    "'X-Requested-With':\n",
    "              'XMLHttpRequest'}\n",
    "\n",
    "\n",
    "# session = requests.session()\n",
    "# session.headers = headers\n",
    "\n",
    "# resp = session.get(url)\n",
    "\n",
    "resp = requests.get(url)\n",
    "\n",
    "if resp.status_code == 200:\n",
    "    print('successful!')\n",
    "else:\n",
    "    print('error!')"
   ]
  },
  {
   "cell_type": "code",
   "execution_count": 86,
   "metadata": {},
   "outputs": [
    {
     "name": "stdout",
     "output_type": "stream",
     "text": [
      "{'data': {'list': [{'is_fei': 1, 'emoticon': '', 'word': '央视 代孕弃养践踏底线', 'topic_flag': '0', 'num': 5230566, 'realpos': 1, 'flag': '16', 'onboard_time': 1611036660, 'note': '央视 代孕弃养践踏底线', 'mid': '4595148274537131'}, {'is_new': 1, 'emoticon': '', 'word': 'Prada终止与郑爽合作', 'topic_flag': '0', 'num': 5214762, 'realpos': 2, 'flag': '1', 'onboard_time': 1611055080, 'note': 'Prada终止与郑爽合作', 'mid': '4595160744466921'}, {'is_fei': 1, 'emoticon': '', 'word': '#我国禁止以任何形式实施代孕#', 'topic_flag': '1', 'num': 4586947, 'realpos': 3, 'flag': '16', 'onboard_time': 1611046080, 'note': '我国禁止以任何形式实施代孕', 'mid': '4595111328221080'}, {'mid': '4595129169740547', 'emoticon': '', 'is_hot': 1, 'topic_flag': '1', 'num': 4538305, 'realpos': 4, 'flag': '2', 'onboard_time': 1611045000, 'note': '张恒代理律师发声', 'word': '#张恒代理律师发声#'}, {'is_fei': 1, 'emoticon': '', 'word': '董洁', 'topic_flag': '0', 'num': 2831830, 'realpos': 5, 'flag': '16', 'onboard_time': 1611032400, 'note': '董洁', 'mid': '4595145749827408'}, {'mid': '4595104699908875', 'emoticon': '', 'is_hot': 1, 'topic_flag': '1', 'num': 2150758, 'realpos': 6, 'flag': '2', 'onboard_time': 1611046920, 'note': '汇源果汁退市', 'word': '#汇源果汁退市#'}, {'is_new': 1, 'emoticon': '', 'word': '#大兴1病例所在学校千名师生集中隔离#', 'topic_flag': '1', 'num': 1620764, 'realpos': 7, 'flag': '1', 'onboard_time': 1611050400, 'note': '大兴1病例所在学校千名师生集中隔离', 'mid': '4595141681100410'}, {'is_new': 1, 'emoticon': '', 'word': '#山东金矿井下已发现12名矿工#', 'topic_flag': '1', 'num': 1332574, 'realpos': 8, 'flag': '1', 'onboard_time': 1611045660, 'note': '山东金矿井下已发现12名矿工', 'mid': '4595161361025137'}, {'is_fei': 1, 'emoticon': '', 'word': '#浪姐2阵容#', 'topic_flag': '1', 'num': 1258457, 'realpos': 9, 'flag': '16', 'onboard_time': 1611025740, 'note': '浪姐2阵容', 'mid': '4595025902834263'}, {'note': '黑龙江望奎县副县长等16人被问责', 'emoticon': '', 'word': '#黑龙江望奎县副县长等16人被问责#', 'num': 1233233, 'realpos': 10, 'flag': '0', 'onboard_time': 1611050580, 'topic_flag': '1', 'mid': '4595107427520893'}], 'top': {'is_ad': 0, 'word': '全球持茅台股份最多基金减持'}}}\n"
     ]
    }
   ],
   "source": [
    "jsons = resp.text\n",
    "jsons = jsons.split('(')[1].split(')')[0]\n",
    "jsons = json.loads(jsons)"
   ]
  },
  {
   "cell_type": "code",
   "execution_count": 88,
   "metadata": {},
   "outputs": [
    {
     "name": "stdout",
     "output_type": "stream",
     "text": [
      "[{'is_fei': 1, 'emoticon': '', 'word': '央视 代孕弃养践踏底线', 'topic_flag': '0', 'num': 5230566, 'realpos': 1, 'flag': '16', 'onboard_time': 1611036660, 'note': '央视 代孕弃养践踏底线', 'mid': '4595148274537131'}, {'is_new': 1, 'emoticon': '', 'word': 'Prada终止与郑爽合作', 'topic_flag': '0', 'num': 5214762, 'realpos': 2, 'flag': '1', 'onboard_time': 1611055080, 'note': 'Prada终止与郑爽合作', 'mid': '4595160744466921'}, {'is_fei': 1, 'emoticon': '', 'word': '#我国禁止以任何形式实施代孕#', 'topic_flag': '1', 'num': 4586947, 'realpos': 3, 'flag': '16', 'onboard_time': 1611046080, 'note': '我国禁止以任何形式实施代孕', 'mid': '4595111328221080'}, {'mid': '4595129169740547', 'emoticon': '', 'is_hot': 1, 'topic_flag': '1', 'num': 4538305, 'realpos': 4, 'flag': '2', 'onboard_time': 1611045000, 'note': '张恒代理律师发声', 'word': '#张恒代理律师发声#'}, {'is_fei': 1, 'emoticon': '', 'word': '董洁', 'topic_flag': '0', 'num': 2831830, 'realpos': 5, 'flag': '16', 'onboard_time': 1611032400, 'note': '董洁', 'mid': '4595145749827408'}, {'mid': '4595104699908875', 'emoticon': '', 'is_hot': 1, 'topic_flag': '1', 'num': 2150758, 'realpos': 6, 'flag': '2', 'onboard_time': 1611046920, 'note': '汇源果汁退市', 'word': '#汇源果汁退市#'}, {'is_new': 1, 'emoticon': '', 'word': '#大兴1病例所在学校千名师生集中隔离#', 'topic_flag': '1', 'num': 1620764, 'realpos': 7, 'flag': '1', 'onboard_time': 1611050400, 'note': '大兴1病例所在学校千名师生集中隔离', 'mid': '4595141681100410'}, {'is_new': 1, 'emoticon': '', 'word': '#山东金矿井下已发现12名矿工#', 'topic_flag': '1', 'num': 1332574, 'realpos': 8, 'flag': '1', 'onboard_time': 1611045660, 'note': '山东金矿井下已发现12名矿工', 'mid': '4595161361025137'}, {'is_fei': 1, 'emoticon': '', 'word': '#浪姐2阵容#', 'topic_flag': '1', 'num': 1258457, 'realpos': 9, 'flag': '16', 'onboard_time': 1611025740, 'note': '浪姐2阵容', 'mid': '4595025902834263'}, {'note': '黑龙江望奎县副县长等16人被问责', 'emoticon': '', 'word': '#黑龙江望奎县副县长等16人被问责#', 'num': 1233233, 'realpos': 10, 'flag': '0', 'onboard_time': 1611050580, 'topic_flag': '1', 'mid': '4595107427520893'}]\n"
     ]
    }
   ],
   "source": []
  },
  {
   "cell_type": "code",
   "execution_count": null,
   "metadata": {},
   "outputs": [],
   "source": []
  }
 ],
 "metadata": {
  "kernelspec": {
   "display_name": "Python 3",
   "language": "python",
   "name": "python3"
  },
  "language_info": {
   "codemirror_mode": {
    "name": "ipython",
    "version": 3
   },
   "file_extension": ".py",
   "mimetype": "text/x-python",
   "name": "python",
   "nbconvert_exporter": "python",
   "pygments_lexer": "ipython3",
   "version": "3.8.5"
  }
 },
 "nbformat": 4,
 "nbformat_minor": 4
}
